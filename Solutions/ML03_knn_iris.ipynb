{
 "cells": [
  {
   "cell_type": "code",
   "execution_count": 14,
   "id": "00b95d4a",
   "metadata": {},
   "outputs": [],
   "source": [
    "import numpy as np\n",
    "import pandas as pd\n",
    "from sklearn.model_selection import train_test_split\n",
    "from sklearn.neighbors import KNeighborsClassifier"
   ]
  },
  {
   "cell_type": "code",
   "execution_count": 15,
   "id": "e224bf12",
   "metadata": {},
   "outputs": [
    {
     "data": {
      "text/plain": [
       "sklearn.utils._bunch.Bunch"
      ]
     },
     "execution_count": 15,
     "metadata": {},
     "output_type": "execute_result"
    }
   ],
   "source": [
    "from sklearn.datasets import load_iris\n",
    "iris_data = load_iris()\n",
    "type(iris_data)"
   ]
  },
  {
   "cell_type": "code",
   "execution_count": null,
   "id": "02467c17",
   "metadata": {},
   "outputs": [],
   "source": [
    "  \n",
    "# # IMPORT THE IRIS DATA FROM THE \n",
    "# # SKLEARN MODULE\n",
    "# from sklearn.datasets import load_iris\n",
    "  \n",
    "# # LOAD THE IRIS DATASET BY CALLING\n",
    "# # THE FUNCTION\n",
    "# iris_data = load_iris()\n",
    " \n",
    "  \n",
    "# # PLACE THE IRIS DATA IN A PANDAS\n",
    "# # DATAFRAME\n",
    "# attr = pd.DataFrame(data=iris_data.data, \n",
    "#                   columns=iris_data.feature_names)\n",
    "# target =pd.DataFrame({'Species': iris_data.target})\n",
    "\n",
    "# # DISPLAY FIRST 5 RECORDS OF THE \n",
    "# # DATAFRAME\n",
    "# target.head()\n",
    "# attr.head(10)"
   ]
  },
  {
   "cell_type": "code",
   "execution_count": 16,
   "id": "6dfc010b",
   "metadata": {},
   "outputs": [
    {
     "name": "stdout",
     "output_type": "stream",
     "text": [
      "       SepalLength  SepalWidth  PetalLength  PetalWidth\n",
      "count   150.000000  150.000000   150.000000  150.000000\n",
      "mean     58.433333   30.573333    37.580000   11.993333\n",
      "std       8.280661    4.358663    17.652982    7.622377\n",
      "min      43.000000   20.000000    10.000000    1.000000\n",
      "25%      51.000000   28.000000    16.000000    3.000000\n",
      "50%      58.000000   30.000000    43.500000   13.000000\n",
      "75%      64.000000   33.000000    51.000000   18.000000\n",
      "max      79.000000   44.000000    69.000000   25.000000\n"
     ]
    },
    {
     "data": {
      "text/html": [
       "<div>\n",
       "<style scoped>\n",
       "    .dataframe tbody tr th:only-of-type {\n",
       "        vertical-align: middle;\n",
       "    }\n",
       "\n",
       "    .dataframe tbody tr th {\n",
       "        vertical-align: top;\n",
       "    }\n",
       "\n",
       "    .dataframe thead th {\n",
       "        text-align: right;\n",
       "    }\n",
       "</style>\n",
       "<table border=\"1\" class=\"dataframe\">\n",
       "  <thead>\n",
       "    <tr style=\"text-align: right;\">\n",
       "      <th></th>\n",
       "      <th>Species</th>\n",
       "      <th>SepalLength</th>\n",
       "      <th>SepalWidth</th>\n",
       "      <th>PetalLength</th>\n",
       "      <th>PetalWidth</th>\n",
       "    </tr>\n",
       "  </thead>\n",
       "  <tbody>\n",
       "    <tr>\n",
       "      <th>0</th>\n",
       "      <td>Setosa</td>\n",
       "      <td>50</td>\n",
       "      <td>33</td>\n",
       "      <td>14</td>\n",
       "      <td>2</td>\n",
       "    </tr>\n",
       "    <tr>\n",
       "      <th>1</th>\n",
       "      <td>Setosa</td>\n",
       "      <td>46</td>\n",
       "      <td>34</td>\n",
       "      <td>14</td>\n",
       "      <td>3</td>\n",
       "    </tr>\n",
       "    <tr>\n",
       "      <th>2</th>\n",
       "      <td>Setosa</td>\n",
       "      <td>46</td>\n",
       "      <td>36</td>\n",
       "      <td>10</td>\n",
       "      <td>2</td>\n",
       "    </tr>\n",
       "    <tr>\n",
       "      <th>3</th>\n",
       "      <td>Setosa</td>\n",
       "      <td>51</td>\n",
       "      <td>33</td>\n",
       "      <td>17</td>\n",
       "      <td>5</td>\n",
       "    </tr>\n",
       "    <tr>\n",
       "      <th>4</th>\n",
       "      <td>Setosa</td>\n",
       "      <td>55</td>\n",
       "      <td>35</td>\n",
       "      <td>13</td>\n",
       "      <td>2</td>\n",
       "    </tr>\n",
       "    <tr>\n",
       "      <th>5</th>\n",
       "      <td>Setosa</td>\n",
       "      <td>48</td>\n",
       "      <td>31</td>\n",
       "      <td>16</td>\n",
       "      <td>2</td>\n",
       "    </tr>\n",
       "    <tr>\n",
       "      <th>6</th>\n",
       "      <td>Setosa</td>\n",
       "      <td>52</td>\n",
       "      <td>34</td>\n",
       "      <td>14</td>\n",
       "      <td>2</td>\n",
       "    </tr>\n",
       "    <tr>\n",
       "      <th>7</th>\n",
       "      <td>Setosa</td>\n",
       "      <td>49</td>\n",
       "      <td>36</td>\n",
       "      <td>14</td>\n",
       "      <td>1</td>\n",
       "    </tr>\n",
       "    <tr>\n",
       "      <th>8</th>\n",
       "      <td>Setosa</td>\n",
       "      <td>44</td>\n",
       "      <td>32</td>\n",
       "      <td>13</td>\n",
       "      <td>2</td>\n",
       "    </tr>\n",
       "    <tr>\n",
       "      <th>9</th>\n",
       "      <td>Setosa</td>\n",
       "      <td>50</td>\n",
       "      <td>35</td>\n",
       "      <td>16</td>\n",
       "      <td>6</td>\n",
       "    </tr>\n",
       "  </tbody>\n",
       "</table>\n",
       "</div>"
      ],
      "text/plain": [
       "  Species  SepalLength  SepalWidth  PetalLength  PetalWidth\n",
       "0  Setosa           50          33           14           2\n",
       "1  Setosa           46          34           14           3\n",
       "2  Setosa           46          36           10           2\n",
       "3  Setosa           51          33           17           5\n",
       "4  Setosa           55          35           13           2\n",
       "5  Setosa           48          31           16           2\n",
       "6  Setosa           52          34           14           2\n",
       "7  Setosa           49          36           14           1\n",
       "8  Setosa           44          32           13           2\n",
       "9  Setosa           50          35           16           6"
      ]
     },
     "execution_count": 16,
     "metadata": {},
     "output_type": "execute_result"
    }
   ],
   "source": [
    "# Loading iris\n",
    "df = pd.read_csv('C:/Users/kdehn/OneDrive - stevens.edu/___Data/CSV_files/iris.csv')\n",
    "# df.head()\n",
    "print(df.describe())\n",
    "# #data preprocessing\n",
    "# df['Species'] = pd.Categorical(df['Species'])  # convert Species column to categorical data type\n",
    "df.head(10)"
   ]
  },
  {
   "cell_type": "code",
   "execution_count": 17,
   "id": "febbdef8",
   "metadata": {},
   "outputs": [
    {
     "name": "stdout",
     "output_type": "stream",
     "text": [
      "Empty DataFrame\n",
      "Columns: [Species, SepalLength, SepalWidth, PetalLength, PetalWidth]\n",
      "Index: []\n"
     ]
    },
    {
     "data": {
      "text/plain": [
       "0    Setosa\n",
       "1    Setosa\n",
       "2    Setosa\n",
       "3    Setosa\n",
       "4    Setosa\n",
       "Name: Species, dtype: object"
      ]
     },
     "execution_count": 17,
     "metadata": {},
     "output_type": "execute_result"
    }
   ],
   "source": [
    "df = df.dropna() # drops NaN values \n",
    "print(df[df.isna().any(axis=1)]) # shows NaN values in data frame if it exists\n",
    "\n",
    "# Splitting the dataset\n",
    "attr = df.drop(columns = ['Species'])  # features\n",
    "target = df['Species']  # target variable\n",
    "# attr.head()\n",
    "target.head()"
   ]
  },
  {
   "cell_type": "code",
   "execution_count": null,
   "id": "4fb20c33",
   "metadata": {},
   "outputs": [],
   "source": []
  },
  {
   "cell_type": "code",
   "execution_count": 18,
   "id": "e37b6e3e",
   "metadata": {},
   "outputs": [
    {
     "data": {
      "text/html": [
       "<div>\n",
       "<style scoped>\n",
       "    .dataframe tbody tr th:only-of-type {\n",
       "        vertical-align: middle;\n",
       "    }\n",
       "\n",
       "    .dataframe tbody tr th {\n",
       "        vertical-align: top;\n",
       "    }\n",
       "\n",
       "    .dataframe thead th {\n",
       "        text-align: right;\n",
       "    }\n",
       "</style>\n",
       "<table border=\"1\" class=\"dataframe\">\n",
       "  <thead>\n",
       "    <tr style=\"text-align: right;\">\n",
       "      <th></th>\n",
       "      <th>SepalLength</th>\n",
       "      <th>SepalWidth</th>\n",
       "      <th>PetalLength</th>\n",
       "      <th>PetalWidth</th>\n",
       "    </tr>\n",
       "  </thead>\n",
       "  <tbody>\n",
       "    <tr>\n",
       "      <th>0</th>\n",
       "      <td>0.194444</td>\n",
       "      <td>0.541667</td>\n",
       "      <td>0.067797</td>\n",
       "      <td>0.041667</td>\n",
       "    </tr>\n",
       "    <tr>\n",
       "      <th>1</th>\n",
       "      <td>0.083333</td>\n",
       "      <td>0.583333</td>\n",
       "      <td>0.067797</td>\n",
       "      <td>0.083333</td>\n",
       "    </tr>\n",
       "    <tr>\n",
       "      <th>2</th>\n",
       "      <td>0.083333</td>\n",
       "      <td>0.666667</td>\n",
       "      <td>0.000000</td>\n",
       "      <td>0.041667</td>\n",
       "    </tr>\n",
       "    <tr>\n",
       "      <th>3</th>\n",
       "      <td>0.222222</td>\n",
       "      <td>0.541667</td>\n",
       "      <td>0.118644</td>\n",
       "      <td>0.166667</td>\n",
       "    </tr>\n",
       "    <tr>\n",
       "      <th>4</th>\n",
       "      <td>0.333333</td>\n",
       "      <td>0.625000</td>\n",
       "      <td>0.050847</td>\n",
       "      <td>0.041667</td>\n",
       "    </tr>\n",
       "  </tbody>\n",
       "</table>\n",
       "</div>"
      ],
      "text/plain": [
       "   SepalLength  SepalWidth  PetalLength  PetalWidth\n",
       "0     0.194444    0.541667     0.067797    0.041667\n",
       "1     0.083333    0.583333     0.067797    0.083333\n",
       "2     0.083333    0.666667     0.000000    0.041667\n",
       "3     0.222222    0.541667     0.118644    0.166667\n",
       "4     0.333333    0.625000     0.050847    0.041667"
      ]
     },
     "execution_count": 18,
     "metadata": {},
     "output_type": "execute_result"
    }
   ],
   "source": [
    "from sklearn.preprocessing import MinMaxScaler\n",
    "# Initialize MinMaxScaler\n",
    "scaler = MinMaxScaler()\n",
    "# Fit and transform the data\n",
    "attr = pd.DataFrame(scaler.fit_transform(attr), columns=attr.columns)\n",
    "attr.head()"
   ]
  },
  {
   "cell_type": "code",
   "execution_count": 19,
   "id": "1e7efc59",
   "metadata": {},
   "outputs": [
    {
     "data": {
      "text/plain": [
       "47    Setosa\n",
       "3     Setosa\n",
       "31    Setosa\n",
       "25    Setosa\n",
       "15    Setosa\n",
       "Name: Species, dtype: object"
      ]
     },
     "execution_count": 19,
     "metadata": {},
     "output_type": "execute_result"
    }
   ],
   "source": [
    "\n",
    "attr_train, attr_test, target_train,target_test  = train_test_split(attr, target,test_size = 0.25, random_state = 3, shuffle = True)\n",
    "target_train.head()\n",
    "# attr_train.head()\n",
    "target_test.head()"
   ]
  },
  {
   "cell_type": "code",
   "execution_count": 20,
   "id": "9b4a2ffb",
   "metadata": {},
   "outputs": [
    {
     "name": "stdout",
     "output_type": "stream",
     "text": [
      "Accuracy of model with k = 3: 0.9473684210526315%\n",
      "\n",
      "Accuracy of model with k = 5: 0.9473684210526315%\n",
      "\n",
      "Accuracy of model with k = 10: 0.9473684210526315%\n",
      "\n"
     ]
    }
   ],
   "source": [
    "# from sklearn.neighbors import KNeighborsClassifier\n",
    "from sklearn.metrics import accuracy_score\n",
    "k_values = [3, 5, 10]\n",
    "\n",
    "for k in k_values:\n",
    "    knn = KNeighborsClassifier(n_neighbors = k)\n",
    "#     knn = KNeighborsClassifier(n_neighbors = k,weights='distance')\n",
    "    knn.fit(attr_train, target_train)\n",
    "    target_pred = knn.predict(attr_test)\n",
    "#     accuracy = round(np.mean(target_test==target_pred ) * 100, 2)\n",
    "    accuracy = accuracy_score(target_test,target_pred ) \n",
    "    print(f'Accuracy of model with k = {k}: {accuracy}%')\n",
    "    print('')"
   ]
  },
  {
   "cell_type": "code",
   "execution_count": null,
   "id": "53c17f10",
   "metadata": {},
   "outputs": [],
   "source": [
    "from sklearn.metrics import accuracy_score\n",
    "from sklearn.metrics import classification_report\n",
    "from sklearn.metrics import confusion_matrix\n",
    "\n",
    "cm=confusion_matrix(target_test, target_pred)\n",
    "\n",
    "print('Confusion Matrix')\n",
    "print(confusion_matrix(target_test, target_pred))\n",
    "print()\n",
    "print('Accuracy score')\n",
    "print(accuracy_score(target_test, target_pred))\n",
    "print()\n",
    "print('Classification Report')\n",
    "print(classification_report(target_test, target_pred))\n"
   ]
  },
  {
   "cell_type": "code",
   "execution_count": null,
   "id": "73b120ca",
   "metadata": {},
   "outputs": [],
   "source": [
    "# target_pred.head()\n",
    "attr_test['target_pred']=target_pred\n",
    "# print(target_test)\n",
    "attr_test['target_actual']= target_test\n",
    "attr_test.head()\n"
   ]
  },
  {
   "cell_type": "code",
   "execution_count": null,
   "id": "a076de58",
   "metadata": {},
   "outputs": [],
   "source": []
  },
  {
   "cell_type": "code",
   "execution_count": null,
   "id": "48ecc343",
   "metadata": {},
   "outputs": [],
   "source": [
    "import seaborn as sns\n",
    "import matplotlib.pyplot as plt     \n",
    "\n",
    "ax= plt.subplot()\n",
    "sns.heatmap(cm, annot=True, fmt='g', ax=ax);  #annot=True to annotate cells, ftm='g' to disable scientific notation\n",
    "\n",
    "# labels, title and ticks\n",
    "ax.set_xlabel('Predicted labels');ax.set_ylabel('True labels'); \n",
    "ax.set_title('Confusion Matrix'); \n",
    "ax.xaxis.set_ticklabels(['Setosa', 'Versicolor','Virginica'])\n",
    "ax.yaxis.set_ticklabels(['Setosa', 'Versicolor','Virginica'])"
   ]
  }
 ],
 "metadata": {
  "kernelspec": {
   "display_name": "Python 3 (ipykernel)",
   "language": "python",
   "name": "python3"
  },
  "language_info": {
   "codemirror_mode": {
    "name": "ipython",
    "version": 3
   },
   "file_extension": ".py",
   "mimetype": "text/x-python",
   "name": "python",
   "nbconvert_exporter": "python",
   "pygments_lexer": "ipython3",
   "version": "3.10.9"
  }
 },
 "nbformat": 4,
 "nbformat_minor": 5
}

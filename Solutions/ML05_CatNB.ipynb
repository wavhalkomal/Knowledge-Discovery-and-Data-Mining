{
 "cells": [
  {
   "cell_type": "code",
   "execution_count": null,
   "id": "dbfb28c8",
   "metadata": {},
   "outputs": [],
   "source": []
  },
  {
   "cell_type": "code",
   "execution_count": 9,
   "id": "6220c353",
   "metadata": {},
   "outputs": [],
   "source": [
    "import pandas as pd\n",
    "from sklearn.model_selection import train_test_split\n",
    "from sklearn.naive_bayes import CategoricalNB\n",
    "from sklearn.preprocessing import OneHotEncoder\n",
    "from sklearn.compose import ColumnTransformer\n",
    "from sklearn.pipeline import Pipeline\n",
    "from sklearn.metrics import accuracy_score"
   ]
  },
  {
   "cell_type": "code",
   "execution_count": 10,
   "id": "d1d3c3da",
   "metadata": {},
   "outputs": [
    {
     "name": "stdout",
     "output_type": "stream",
     "text": [
      "Empty DataFrame\n",
      "Columns: [Class, Sex, Age, Survived]\n",
      "Index: []\n"
     ]
    }
   ],
   "source": [
    "# Load Titanic dataset \n",
    "df = pd.read_csv('C:/Users/kdehn/OneDrive - stevens.edu/___Data/CSV_files/Titanic_rows.csv')\n",
    "\n",
    "print(df[df.isna().any(axis=1)]) # shows NaN values in data frame if it exists"
   ]
  },
  {
   "cell_type": "code",
   "execution_count": 11,
   "id": "9601eac5",
   "metadata": {},
   "outputs": [],
   "source": [
    "attr = df.drop('Survived', axis=1)\n",
    "target = df['Survived']\n",
    "\n",
    "# Split the data into training and testing sets\n",
    "attr_train, attr_test, target_train, target_test = train_test_split(attr, target, test_size=0.2, random_state=5)\n",
    "\n",
    "categorical_columns=['Class', 'Sex', 'Age']\n",
    "# Create preprocessor for categorical data\n",
    "preprocessor = ColumnTransformer(\n",
    "    transformers=[\n",
    "        ('cat', OneHotEncoder(), categorical_columns) ])\n",
    "# Create a Categorical Naive Bayes model\n",
    "cnb = CategoricalNB()\n",
    "\n",
    "# Create a pipeline with preprocessing and model\n",
    "model = Pipeline(steps=[('preprocessor', preprocessor),\n",
    "                        ('classifier', cnb)])\n",
    "# Train the model\n",
    "model.fit(attr_train, target_train)\n",
    "\n",
    "# # Make predictions on the test set\n",
    "target_pred = model.predict(attr_test)\n",
    "\n"
   ]
  },
  {
   "cell_type": "code",
   "execution_count": 12,
   "id": "631f0e55",
   "metadata": {},
   "outputs": [
    {
     "data": {
      "text/html": [
       "<div>\n",
       "<style scoped>\n",
       "    .dataframe tbody tr th:only-of-type {\n",
       "        vertical-align: middle;\n",
       "    }\n",
       "\n",
       "    .dataframe tbody tr th {\n",
       "        vertical-align: top;\n",
       "    }\n",
       "\n",
       "    .dataframe thead th {\n",
       "        text-align: right;\n",
       "    }\n",
       "</style>\n",
       "<table border=\"1\" class=\"dataframe\">\n",
       "  <thead>\n",
       "    <tr style=\"text-align: right;\">\n",
       "      <th></th>\n",
       "      <th>Class</th>\n",
       "      <th>Sex</th>\n",
       "      <th>Age</th>\n",
       "    </tr>\n",
       "  </thead>\n",
       "  <tbody>\n",
       "    <tr>\n",
       "      <th>1664</th>\n",
       "      <td>3rd</td>\n",
       "      <td>Male</td>\n",
       "      <td>Adult</td>\n",
       "    </tr>\n",
       "    <tr>\n",
       "      <th>1672</th>\n",
       "      <td>3rd</td>\n",
       "      <td>Male</td>\n",
       "      <td>Adult</td>\n",
       "    </tr>\n",
       "    <tr>\n",
       "      <th>1834</th>\n",
       "      <td>Crew</td>\n",
       "      <td>Male</td>\n",
       "      <td>Adult</td>\n",
       "    </tr>\n",
       "    <tr>\n",
       "      <th>293</th>\n",
       "      <td>2nd</td>\n",
       "      <td>Male</td>\n",
       "      <td>Adult</td>\n",
       "    </tr>\n",
       "    <tr>\n",
       "      <th>2095</th>\n",
       "      <td>2nd</td>\n",
       "      <td>Female</td>\n",
       "      <td>Adult</td>\n",
       "    </tr>\n",
       "  </tbody>\n",
       "</table>\n",
       "</div>"
      ],
      "text/plain": [
       "     Class     Sex    Age\n",
       "1664   3rd    Male  Adult\n",
       "1672   3rd    Male  Adult\n",
       "1834  Crew    Male  Adult\n",
       "293    2nd    Male  Adult\n",
       "2095   2nd  Female  Adult"
      ]
     },
     "execution_count": 12,
     "metadata": {},
     "output_type": "execute_result"
    }
   ],
   "source": [
    "attr_test.head()"
   ]
  },
  {
   "cell_type": "code",
   "execution_count": 13,
   "id": "a932cfb5",
   "metadata": {},
   "outputs": [
    {
     "name": "stdout",
     "output_type": "stream",
     "text": [
      "Accuracy: 0.7528344671201814\n",
      "\n",
      "[[269  31]\n",
      " [ 78  63]]\n",
      "\n",
      "Classification Report\n",
      "              precision    recall  f1-score   support\n",
      "\n",
      "          No       0.78      0.90      0.83       300\n",
      "         Yes       0.67      0.45      0.54       141\n",
      "\n",
      "    accuracy                           0.75       441\n",
      "   macro avg       0.72      0.67      0.68       441\n",
      "weighted avg       0.74      0.75      0.74       441\n",
      "\n"
     ]
    }
   ],
   "source": [
    "from sklearn.metrics import accuracy_score\n",
    "from sklearn.metrics import classification_report\n",
    "from sklearn.metrics import confusion_matrix\n",
    "# Evaluate the accuracy\n",
    "accuracy = accuracy_score(target_test, target_pred)\n",
    "print(f'Accuracy: {accuracy}')\n",
    "print()\n",
    "print(confusion_matrix(target_test, target_pred))\n",
    "print()\n",
    "print('Classification Report')\n",
    "print(classification_report(target_test, target_pred))"
   ]
  },
  {
   "cell_type": "code",
   "execution_count": null,
   "id": "d677f58c",
   "metadata": {},
   "outputs": [],
   "source": []
  }
 ],
 "metadata": {
  "kernelspec": {
   "display_name": "Python 3 (ipykernel)",
   "language": "python",
   "name": "python3"
  },
  "language_info": {
   "codemirror_mode": {
    "name": "ipython",
    "version": 3
   },
   "file_extension": ".py",
   "mimetype": "text/x-python",
   "name": "python",
   "nbconvert_exporter": "python",
   "pygments_lexer": "ipython3",
   "version": "3.10.9"
  }
 },
 "nbformat": 4,
 "nbformat_minor": 5
}

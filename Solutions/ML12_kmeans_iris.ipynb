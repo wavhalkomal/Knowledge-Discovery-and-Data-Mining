{
 "cells": [
  {
   "cell_type": "code",
   "execution_count": 6,
   "id": "74266f1f",
   "metadata": {},
   "outputs": [],
   "source": [
    "\n",
    "import numpy as np\n",
    "import pandas as pd\n",
    "import matplotlib.pyplot as plt\n",
    "from sklearn.cluster import KMeans\n",
    "from sklearn.datasets import load_iris\n",
    "# from sklearn.decomposition import PCA\n",
    "from sklearn.preprocessing import MinMaxScaler "
   ]
  },
  {
   "cell_type": "code",
   "execution_count": 7,
   "id": "290873eb",
   "metadata": {},
   "outputs": [
    {
     "name": "stdout",
     "output_type": "stream",
     "text": [
      "Empty DataFrame\n",
      "Columns: [Species, SepalLength, SepalWidth, PetalLength, PetalWidth]\n",
      "Index: []\n"
     ]
    },
    {
     "data": {
      "text/html": [
       "<div>\n",
       "<style scoped>\n",
       "    .dataframe tbody tr th:only-of-type {\n",
       "        vertical-align: middle;\n",
       "    }\n",
       "\n",
       "    .dataframe tbody tr th {\n",
       "        vertical-align: top;\n",
       "    }\n",
       "\n",
       "    .dataframe thead th {\n",
       "        text-align: right;\n",
       "    }\n",
       "</style>\n",
       "<table border=\"1\" class=\"dataframe\">\n",
       "  <thead>\n",
       "    <tr style=\"text-align: right;\">\n",
       "      <th></th>\n",
       "      <th>SepalLength</th>\n",
       "      <th>SepalWidth</th>\n",
       "      <th>PetalLength</th>\n",
       "      <th>PetalWidth</th>\n",
       "    </tr>\n",
       "  </thead>\n",
       "  <tbody>\n",
       "    <tr>\n",
       "      <th>0</th>\n",
       "      <td>0.194444</td>\n",
       "      <td>0.541667</td>\n",
       "      <td>0.067797</td>\n",
       "      <td>0.041667</td>\n",
       "    </tr>\n",
       "    <tr>\n",
       "      <th>1</th>\n",
       "      <td>0.083333</td>\n",
       "      <td>0.583333</td>\n",
       "      <td>0.067797</td>\n",
       "      <td>0.083333</td>\n",
       "    </tr>\n",
       "    <tr>\n",
       "      <th>2</th>\n",
       "      <td>0.083333</td>\n",
       "      <td>0.666667</td>\n",
       "      <td>0.000000</td>\n",
       "      <td>0.041667</td>\n",
       "    </tr>\n",
       "    <tr>\n",
       "      <th>3</th>\n",
       "      <td>0.222222</td>\n",
       "      <td>0.541667</td>\n",
       "      <td>0.118644</td>\n",
       "      <td>0.166667</td>\n",
       "    </tr>\n",
       "    <tr>\n",
       "      <th>4</th>\n",
       "      <td>0.333333</td>\n",
       "      <td>0.625000</td>\n",
       "      <td>0.050847</td>\n",
       "      <td>0.041667</td>\n",
       "    </tr>\n",
       "  </tbody>\n",
       "</table>\n",
       "</div>"
      ],
      "text/plain": [
       "   SepalLength  SepalWidth  PetalLength  PetalWidth\n",
       "0     0.194444    0.541667     0.067797    0.041667\n",
       "1     0.083333    0.583333     0.067797    0.083333\n",
       "2     0.083333    0.666667     0.000000    0.041667\n",
       "3     0.222222    0.541667     0.118644    0.166667\n",
       "4     0.333333    0.625000     0.050847    0.041667"
      ]
     },
     "execution_count": 7,
     "metadata": {},
     "output_type": "execute_result"
    }
   ],
   "source": [
    "# Loading iris\n",
    "df = pd.read_csv('C:/Users/kdehn/OneDrive - stevens.edu/___Data/CSV_files/iris.csv')\n",
    "# df.head()\n",
    "# print(df.describe())\n",
    "# #data preprocessing\n",
    "# df['Species'] = pd.Categorical(df['Species'])  # convert Species column to categorical data type\n",
    "df.head(10)\n",
    "df = df.dropna() # drops NaN values \n",
    "print(df[df.isna().any(axis=1)]) # shows NaN values in data frame if it exists\n",
    "\n",
    "\n",
    "\n",
    "# Splitting the dataset\n",
    "attr = df.drop(columns = ['Species'])  # features\n",
    "scaler = MinMaxScaler()\n",
    "attr = pd.DataFrame(scaler.fit_transform(attr), columns=attr.columns)\n",
    "attr.head()\n",
    "\n",
    "target = df['Species']  # target variable\n",
    "attr.head()\n",
    "# target.head()"
   ]
  },
  {
   "cell_type": "code",
   "execution_count": 9,
   "id": "ae1e4a17",
   "metadata": {},
   "outputs": [],
   "source": [
    "num_clusters = 3  # Iris dataset has three species\n",
    "kmeans = KMeans(n_clusters=num_clusters, random_state=12)\n",
    "kmeans.fit(attr)\n",
    "labels = kmeans.labels_\n",
    "centers = kmeans.cluster_centers_"
   ]
  },
  {
   "cell_type": "code",
   "execution_count": 10,
   "id": "7ca58291",
   "metadata": {},
   "outputs": [
    {
     "name": "stdout",
     "output_type": "stream",
     "text": [
      "Cluster      0   1   2\n",
      "Actual                \n",
      "Setosa      50   0   0\n",
      "Versicolor   0  47   3\n",
      "Virginica    0  14  36\n"
     ]
    }
   ],
   "source": [
    "import pandas as pd\n",
    "df_cluster=pd.DataFrame({'Actual':target,'Cluster':labels})\n",
    "# Create a cross-tabulation\n",
    "cross_tab = pd.crosstab(df_cluster['Actual'], df_cluster['Cluster'])\n",
    "\n",
    "print(cross_tab)\n",
    "\n",
    "\n"
   ]
  }
 ],
 "metadata": {
  "kernelspec": {
   "display_name": "Python 3 (ipykernel)",
   "language": "python",
   "name": "python3"
  },
  "language_info": {
   "codemirror_mode": {
    "name": "ipython",
    "version": 3
   },
   "file_extension": ".py",
   "mimetype": "text/x-python",
   "name": "python",
   "nbconvert_exporter": "python",
   "pygments_lexer": "ipython3",
   "version": "3.10.9"
  }
 },
 "nbformat": 4,
 "nbformat_minor": 5
}

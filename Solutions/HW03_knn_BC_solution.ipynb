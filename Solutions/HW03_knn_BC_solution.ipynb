{
 "cells": [
  {
   "cell_type": "code",
   "execution_count": null,
   "id": "83ec8262",
   "metadata": {},
   "outputs": [],
   "source": []
  },
  {
   "cell_type": "code",
   "execution_count": 7,
   "id": "5178c42d",
   "metadata": {},
   "outputs": [],
   "source": [
    "import numpy as np\n",
    "import pandas as pd\n",
    "from sklearn.model_selection import train_test_split\n",
    "\n"
   ]
  },
  {
   "cell_type": "code",
   "execution_count": 8,
   "id": "b14ae950",
   "metadata": {},
   "outputs": [
    {
     "name": "stdout",
     "output_type": "stream",
     "text": [
      "      Sample  F1  F2  F3  F4  F5  F6  F7  F8  F9 Class\n",
      "23   1057013   8   4   5   1   2 NaN   7   3   1     4\n",
      "40   1096800   6   6   6   9   6 NaN   7   8   1     2\n",
      "139  1183246   1   1   1   1   1 NaN   2   1   1     2\n",
      "145  1184840   1   1   3   1   2 NaN   2   1   1     2\n",
      "158  1193683   1   1   2   1   3 NaN   1   1   1     2\n",
      "164  1197510   5   1   1   1   2 NaN   3   1   1     2\n",
      "235  1241232   3   1   4   1   2 NaN   3   1   1     2\n",
      "249   169356   3   1   1   1   2 NaN   3   1   1     2\n",
      "275   432809   3   1   3   1   2 NaN   2   1   1     2\n",
      "292   563649   8   8   8   1   2 NaN   6  10   1     4\n",
      "294   606140   1   1   1   1   2 NaN   2   1   1     2\n",
      "297    61634   5   4   3   1   2 NaN   2   3   1     2\n",
      "315   704168   4   6   5   6   7 NaN   4   9   1     2\n",
      "321   733639   3   1   1   1   2 NaN   3   1   1     2\n",
      "411  1238464   1   1   1   1   1 NaN   2   1   1     2\n",
      "617  1057067   1   1   1   1   1 NaN   1   1   1     2\n",
      "(699, 11)\n",
      "Sample     0\n",
      "F1         0\n",
      "F2         0\n",
      "F3         0\n",
      "F4         0\n",
      "F5         0\n",
      "F6        16\n",
      "F7         0\n",
      "F8         0\n",
      "F9         0\n",
      "Class      0\n",
      "dtype: int64\n",
      "\n",
      "************* data type is float needs to be changed to int64 ******\n",
      "float64\n",
      "shape : (683, 11)\n",
      "Sample    0\n",
      "F1        0\n",
      "F2        0\n",
      "F3        0\n",
      "F4        0\n",
      "F5        0\n",
      "F6        0\n",
      "F7        0\n",
      "F8        0\n",
      "F9        0\n",
      "Class     0\n",
      "dtype: int64\n"
     ]
    }
   ],
   "source": [
    "#Read the data in and remove any missing values\n",
    "#Remove any row with a missing value in any of the columns.\n",
    "filename='C:/Users/kdehn/OneDrive - stevens.edu/___Data/CSV_files/breast-cancer-wisconsin.csv'\n",
    "nan_values=['?']\n",
    "att_type={' Sample': 'str', 'Class':'category'}\n",
    "\n",
    "df=pd.read_csv(filename,dtype=att_type,na_values=nan_values)\n",
    "\n",
    "print(df[df.isna().any(axis=1)])\n",
    "\n",
    "print(df.shape)\n",
    "print(df.isnull().sum())\n",
    "print()\n",
    "df.dropna(inplace=True)\n",
    "\n",
    "print(\"************* data type is float needs to be changed to int64 ******\")\n",
    "print(df['F6'].dtype)\n",
    " \n",
    "\n",
    "df['F6'] = df['F6'].astype('int64')\n",
    "\n",
    "print(f\"shape : {df.shape}\")\n",
    "print(df.isnull().sum())\n",
    "# print(df.describe())\n",
    "# df.head()"
   ]
  },
  {
   "cell_type": "code",
   "execution_count": null,
   "id": "15fd0b0d",
   "metadata": {},
   "outputs": [],
   "source": [
    "print(df.dtypes)\n",
    "df.head()"
   ]
  },
  {
   "cell_type": "code",
   "execution_count": 9,
   "id": "9be31ef0",
   "metadata": {},
   "outputs": [
    {
     "data": {
      "text/plain": [
       "579    2\n",
       "529    2\n",
       "596    2\n",
       "90     2\n",
       "347    2\n",
       "Name: Class, dtype: category\n",
       "Categories (2, object): ['2', '4']"
      ]
     },
     "execution_count": 9,
     "metadata": {},
     "output_type": "execute_result"
    }
   ],
   "source": [
    "# Splitting the dataset\n",
    "attr = df.drop(columns = ['Class','Sample'])  # features\n",
    "target = df['Class']  # target variable\n",
    "# attr.head()\n",
    "# target.head()\n",
    "attr_train, attr_test, target_train,target_test  = train_test_split(attr, target,test_size = 0.25, random_state = 44, shuffle = True)\n",
    "target_train.head()\n",
    "# attr_train.head()\n",
    "target_test.head()\n"
   ]
  },
  {
   "cell_type": "code",
   "execution_count": 10,
   "id": "4a557df9",
   "metadata": {},
   "outputs": [
    {
     "name": "stdout",
     "output_type": "stream",
     "text": [
      "Accuracy of model with k = 3: 0.9532163742690059%\n",
      "\n",
      "Accuracy of model with k = 4: 0.9649122807017544%\n",
      "\n",
      "Accuracy of model with k = 5: 0.9707602339181286%\n",
      "\n",
      "Accuracy of model with k = 6: 0.9532163742690059%\n",
      "\n",
      "Accuracy of model with k = 10: 0.9590643274853801%\n",
      "\n"
     ]
    }
   ],
   "source": [
    "from sklearn.neighbors import KNeighborsClassifier\n",
    "from sklearn.metrics import accuracy_score\n",
    "k_values = [3, 4,5,6, 10]\n",
    "\n",
    "for k in k_values:\n",
    "    knn = KNeighborsClassifier(n_neighbors = k)\n",
    "    knn.fit(attr_train, target_train)\n",
    "    target_pred = knn.predict(attr_test)\n",
    "#     accuracy = round(np.mean(target_test==target_pred ) * 100, 2)\n",
    "    accuracy = accuracy_score(target_test,target_pred ) \n",
    "    print(f'Accuracy of model with k = {k}: {accuracy}%')\n",
    "    print('')"
   ]
  }
 ],
 "metadata": {
  "kernelspec": {
   "display_name": "Python 3 (ipykernel)",
   "language": "python",
   "name": "python3"
  },
  "language_info": {
   "codemirror_mode": {
    "name": "ipython",
    "version": 3
   },
   "file_extension": ".py",
   "mimetype": "text/x-python",
   "name": "python",
   "nbconvert_exporter": "python",
   "pygments_lexer": "ipython3",
   "version": "3.10.9"
  }
 },
 "nbformat": 4,
 "nbformat_minor": 5
}
